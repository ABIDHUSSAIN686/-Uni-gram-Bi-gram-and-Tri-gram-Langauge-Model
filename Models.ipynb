class GenerateModels:

  def readDataset(self):
  # Dataset for designing model
    file = "/Dataset.txt"
    dataset = open(file, "r")
    return dataset

  def generateCorpus( self,dataset ):
  # Spliting the Dataset into words
    corpus=[]
    for sentence in dataset:
      corpus+=sentence.split()
    return corpus

  def generateVocabulary( self,corpus ):
  #Finding the unique words in the corpus
    vocabulary = []
    data=""
    for word in corpus:
        data +=word+" "
        if word not in vocabulary:
            vocabulary.append(word)
    return vocabulary

  def generateUnigramArray(self,corpus ):
  # Designing the Uni-gram Array
    Unigram_Array={}
    for items in corpus:
      Unigram_Array[items] = corpus.count(items)
    return Unigram_Array

  def generateUnigramModel( self,Unigram_Array, corpus ):
  # Designing the Uni-gram Model 
    Unigram_Model={}
    for items in Unigram_Array.keys():
      Unigram_Model[items]=Unigram_Array[items]/len(corpus)
    return Unigram_Model

  def generateBigramArray(self,Unigram_Array, vocabulary ,corpus):
  # Designing the Bi-gram Array and Model
    Bigram_Array=dict()
    Bigram_Model=dict()
    for index1 in range(len(vocabulary)):
      Bigram_Array[vocabulary[index1]] = dict()
      for index in range(len(vocabulary)):
        if index < len(vocabulary):
          Bigram_Array[vocabulary[index1]][vocabulary[index]]=0
    for index1 in range(len(vocabulary)):
      Bigram_Array[vocabulary[index1]] = dict()
      Bigram_Model[vocabulary[index1]] = dict()
      for index in range(len(vocabulary)):
        if index < len(vocabulary):
          searched_word=vocabulary[index1]+" "+vocabulary[index]
          count =0
          for words in range(len(corpus)):
            if words < len(corpus)-1:
              if searched_word==corpus[words]+" "+corpus[words+1]:
                count+=1
          Bigram_Array[vocabulary[index1]][vocabulary[index]]=count
          Bigram_Model[vocabulary[index1]][vocabulary[index]]=(count+1)/(Unigram_Array[vocabulary[index1]]+len(vocabulary))
          
    return Bigram_Array,Bigram_Model


  def generateTrigramArray(self,Bigram_Array, vocabulary ,corpus):
  # Designing the Tri-gram Array and Model
    Trigram_Array=dict()
    Trigram_Model=dict()
    for index1 in range(len(corpus)):
      if index1 < len(corpus)-1:
        Trigram_Array[corpus[index1]+" "+corpus[index1+1]] = dict()
      for index in range(len(vocabulary)):
        if index1 < len(corpus)-1:
          sentence=corpus[index1]+" "+corpus[index1+1]
          Trigram_Array[sentence][vocabulary[index]]=0

    for index1 in range(len(corpus)):
      if index1 < len(corpus)-1:
        Trigram_Model[corpus[index1]+" "+corpus[index1+1]] = dict()
      for index in range(len(vocabulary)):
        if index1 < len(corpus)-1:
          searched_word=corpus[index1]+" "+corpus[index1+1]+" "+vocabulary[index]
          count =0
          for words in range(len(corpus)):
            if words < len(corpus)-2:
              if searched_word==corpus[words]+" "+corpus[words+1]+" "+corpus[words+2]:
                count+=1
          sentence=corpus[index1]+" "+corpus[index1+1]
          Trigram_Array[sentence][vocabulary[index]]=count
          Trigram_Model[sentence][vocabulary[index]]=(count+1)/(Bigram_Array[corpus[index1]][corpus[index1+1]]+len(vocabulary))
    
    return Trigram_Array,Trigram_Model




def main():
  model= GenerateModels()
  # Dataset for Designing model
  dataset =['<s> I am Sam </s>',
            '<s> Sam I am </s>',
            '<s> I do not like green eggs and ham </s>'
            ]
  
  # Calling function for generating corpus
  corpus = model.generateCorpus(dataset)
  # Calling function for generating vocabulary
  vocabulary = model.generateVocabulary(corpus)
  # Calling function for generating Uni-gram
  Unigram_Array = model.generateUnigramArray(corpus)
  Unigram_Model = model.generateUnigramModel(Unigram_Array,corpus)
  # Calling function for generating Bi-gram
  Bigram_Array,Bigram_Model = model.generateBigramArray(Unigram_Array, vocabulary ,corpus)
  # Calling function for generating Tri-gram
  Trigram_Array,Trigram_Model = model.generateTrigramArray(Bigram_Array, vocabulary ,corpus)
  
  # Printing all Models
  print('Unigram Array')
  print(Unigram_Array)
  print('Unigram Model')
  print(Unigram_Model)
  print('Bigram Array')
  print(Bigram_Array)
  print('Bigram Model')
  print(Bigram_Model)
  print('Trigram Array')
  print(Trigram_Array)
  print('Trigram Model')
  print(Trigram_Model)


if __name__ == "__main__":
    main()
